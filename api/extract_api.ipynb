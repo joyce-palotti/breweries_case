{
 "cells": [
  {
   "cell_type": "markdown",
   "metadata": {
    "application/vnd.databricks.v1+cell": {
     "cellMetadata": {
      "byteLimit": 2048000,
      "rowLimit": 10000
     },
     "inputWidgets": {},
     "nuid": "1e64830a-f9ec-4726-b7ce-e2f478412553",
     "showTitle": false,
     "tableResultSettingsMap": {},
     "title": ""
    }
   },
   "source": [
    "# Open Brewery DB API Extract (API → Datalake)\n",
    "\n",
    "**Goal:** \n",
    "* Read from the breweries listing available on the API endpoint and persisting the data into the data lake.\n",
    "\n",
    "**Source:**\n",
    "* *api_endpoint:* the endpoint of the API from where the data will be extracted\n",
    "\n",
    "**Output:** \n",
    "* *output_file_name:* the name of the file where the data will be stored\n",
    "* *output_path:* the path in the datalake where the output files must be saved"
   ]
  },
  {
   "cell_type": "code",
   "execution_count": 0,
   "metadata": {
    "application/vnd.databricks.v1+cell": {
     "cellMetadata": {
      "byteLimit": 2048000,
      "rowLimit": 10000
     },
     "inputWidgets": {},
     "nuid": "631b3fd7-98ce-4be4-a3a6-cd86078159e6",
     "showTitle": false,
     "tableResultSettingsMap": {},
     "title": ""
    }
   },
   "outputs": [
    {
     "ename": "",
     "evalue": "",
     "output_type": "error",
     "traceback": [
      "\u001b[1;31mRunning cells with 'Python 3.7.0' requires the ipykernel package.\n",
      "\u001b[1;31mRun the following command to install 'ipykernel' into the Python environment. \n",
      "\u001b[1;31mCommand: 'c:/Users/joyce.palotti_visagi/AppData/Local/Programs/Python/Python37/python.exe -m pip install ipykernel -U --user --force-reinstall'"
     ]
    }
   ],
   "source": [
    "import datetime\n",
    "import time\n",
    "import os\n",
    "import pandas as pd\n",
    "import requests\n",
    "import pyspark.sql.functions as F\n",
    "import json\n",
    "from typing import Union\n",
    "from requests import Response\n",
    "from pyspark.sql.functions import lower"
   ]
  },
  {
   "cell_type": "markdown",
   "metadata": {
    "application/vnd.databricks.v1+cell": {
     "cellMetadata": {
      "byteLimit": 2048000,
      "rowLimit": 10000
     },
     "inputWidgets": {},
     "nuid": "7c6ea86d-22c4-4260-a906-1cd91f75f0fa",
     "showTitle": false,
     "tableResultSettingsMap": {},
     "title": ""
    }
   },
   "source": [
    "### Widgets"
   ]
  },
  {
   "cell_type": "code",
   "execution_count": 0,
   "metadata": {
    "application/vnd.databricks.v1+cell": {
     "cellMetadata": {
      "byteLimit": 2048000,
      "rowLimit": 10000
     },
     "inputWidgets": {},
     "nuid": "2d0726a1-dcf5-4c0a-a0a4-47d4234738e0",
     "showTitle": false,
     "tableResultSettingsMap": {},
     "title": ""
    }
   },
   "outputs": [],
   "source": [
    "dbutils.widgets.dropdown('ENV', 'QA', ['QA','PROD']) # Ambiente de Execução\n",
    "dbutils.widgets.text(\"schema\", \"\",\"\") # Schema\n",
    "dbutils.widgets.text(\"view\", \"\",\"\") # View\n",
    "dbutils.widgets.text(\"view_unsubscribed\", \"\",\"\") # View desligados"
   ]
  },
  {
   "cell_type": "code",
   "execution_count": 0,
   "metadata": {
    "application/vnd.databricks.v1+cell": {
     "cellMetadata": {
      "byteLimit": 2048000,
      "rowLimit": 10000
     },
     "inputWidgets": {},
     "nuid": "51f892d6-afd6-473d-ac93-6bad011f5b04",
     "showTitle": false,
     "tableResultSettingsMap": {},
     "title": ""
    }
   },
   "outputs": [],
   "source": [
    "# Extrai os valores vindos dos argumentos\n",
    "ENV = getArgument(\"ENV\")\n",
    "schema = getArgument(\"schema\")\n",
    "view = getArgument(\"view\")\n",
    "view_unsubscribed = getArgument(\"view_unsubscribed\")"
   ]
  },
  {
   "cell_type": "markdown",
   "metadata": {
    "application/vnd.databricks.v1+cell": {
     "cellMetadata": {
      "byteLimit": 2048000,
      "rowLimit": 10000
     },
     "inputWidgets": {},
     "nuid": "ca5e96d5-c6b8-40ac-8532-b279bc33715c",
     "showTitle": false,
     "tableResultSettingsMap": {},
     "title": ""
    }
   },
   "source": [
    "###Integração com Data Warehouse"
   ]
  },
  {
   "cell_type": "code",
   "execution_count": 0,
   "metadata": {
    "application/vnd.databricks.v1+cell": {
     "cellMetadata": {
      "byteLimit": 2048000,
      "rowLimit": 10000
     },
     "inputWidgets": {},
     "nuid": "188739a1-6cc2-43a7-9a5b-be983b68459e",
     "showTitle": false,
     "tableResultSettingsMap": {},
     "title": ""
    }
   },
   "outputs": [],
   "source": [
    "settings = {\n",
    "    'QA': {\n",
    "      'DW' : {\n",
    "        'servername': \"cba-sqldb-edm-qa-eastus2\",\n",
    "        'databasename': \"cba-sqldw-edm-qa-eastus2\",\n",
    "        'username': \"sasqldbedm\",\n",
    "        'password': dbutils.secrets.get(scope = 'SCT-SCP-CBA-DCB-EDM-EASTUS2', key = \"SCT-PW-CBA-SQLDW-EDM-EASTUS2\"),\n",
    "        'port': \"1433\"\n",
    "      },\n",
    "    'Blob': {\n",
    "        'storage_account_name': 'cbastedmqabrazilsouth',\n",
    "        'storage_account_key': dbutils.secrets.get(scope='SCT-SCP-CBA-DCB-EDM-EASTUS2', key = \"SCT-PW-CBASTEDMBRAZILSOUTH\"),\n",
    "        'storage_container_name': 'cbastedmbrazilsouth'\n",
    "      }\n",
    "    },\n",
    "   'PROD':{\n",
    "    'DW' : {\n",
    "        'servername': \"cba-sqldb-edm-prod-eastus2\",\n",
    "        'databasename': \"cba-sqldw-edm-prod-eastus2\",\n",
    "        'username': \"sasqldbedm\",\n",
    "        'password': dbutils.secrets.get(scope = 'SCT-SCP-CBA-DCB-EDM-EASTUS2', key = \"SCT-PW-CBA-SQLDW-EDM-EASTUS2\"),\n",
    "        'port': \"1433\"\n",
    "      },\n",
    "    'Blob': {\n",
    "        'storage_account_name': 'cbastedmprodbrazilsouth',\n",
    "        'storage_account_key': dbutils.secrets.get(scope='SCT-SCP-CBA-DCB-EDM-EASTUS2', key = \"SCT-PW-CBASTEDMBRAZILSOUTH\"),\n",
    "        'storage_container_name': 'cbastedmbrazilsouth'\n",
    "      }\n",
    "  }\n",
    "}"
   ]
  },
  {
   "cell_type": "code",
   "execution_count": 0,
   "metadata": {
    "application/vnd.databricks.v1+cell": {
     "cellMetadata": {
      "byteLimit": 2048000,
      "rowLimit": 10000
     },
     "inputWidgets": {},
     "nuid": "7da10df8-a9f8-4b2d-a420-7885bc4b3729",
     "showTitle": false,
     "tableResultSettingsMap": {},
     "title": ""
    }
   },
   "outputs": [],
   "source": [
    "# Blob\n",
    "temp_dir_url = \"wasbs://{}@{}.blob.core.windows.net/{}\".format(settings[ENV]['Blob']['storage_container_name'], settings[ENV]['Blob']['storage_account_name'], settings[ENV]['Blob']['storage_container_name'])\n",
    "spark_config_key = \"fs.azure.account.key.{}.blob.core.windows.net\".format(settings[ENV]['Blob']['storage_account_name'])\n",
    "spark_config_value = settings[ENV]['Blob']['storage_account_key']\n",
    "spark.conf.set(spark_config_key, spark_config_value)\n"
   ]
  },
  {
   "cell_type": "code",
   "execution_count": 0,
   "metadata": {
    "application/vnd.databricks.v1+cell": {
     "cellMetadata": {
      "byteLimit": 2048000,
      "rowLimit": 10000
     },
     "inputWidgets": {},
     "nuid": "c62fd4a3-1058-444d-9d9f-e7d445436ded",
     "showTitle": false,
     "tableResultSettingsMap": {},
     "title": ""
    }
   },
   "outputs": [],
   "source": [
    "# Conecta no DW\n",
    "sql_dw_connection_string = f\"jdbc:sqlserver://{settings[ENV]['DW']['servername']}.database.windows.net:{settings[ENV]['DW']['port']};database={settings[ENV]['DW']['databasename']};user={settings[ENV]['DW']['username']}@{settings[ENV]['DW']['servername']};password={settings[ENV]['DW']['password']};encrypt=true;trustServerCertificate=false;hostNameInCertificate=*.database.windows.net;loginTimeout=30;;\""
   ]
  },
  {
   "cell_type": "markdown",
   "metadata": {
    "application/vnd.databricks.v1+cell": {
     "cellMetadata": {
      "byteLimit": 2048000,
      "rowLimit": 10000
     },
     "inputWidgets": {},
     "nuid": "b620ed8d-7aa4-40b7-85f0-e5bc44f4c5a7",
     "showTitle": false,
     "tableResultSettingsMap": {},
     "title": ""
    }
   },
   "source": [
    "### Obtenção dos dados da View"
   ]
  },
  {
   "cell_type": "code",
   "execution_count": 0,
   "metadata": {
    "application/vnd.databricks.v1+cell": {
     "cellMetadata": {
      "byteLimit": 2048000,
      "rowLimit": 10000
     },
     "inputWidgets": {},
     "nuid": "21119844-4fed-4fc8-ba98-7b3dfd74ee89",
     "showTitle": false,
     "tableResultSettingsMap": {},
     "title": ""
    }
   },
   "outputs": [],
   "source": [
    "query = (\n",
    "  f\"SELECT * FROM {schema}.{view}\"\n",
    ")\n",
    "\n",
    "df_spark = spark.read \\\n",
    "  .format(\"com.databricks.spark.sqldw\") \\\n",
    "  .option(\"url\", sql_dw_connection_string) \\\n",
    "  .option(\"tempdir\", temp_dir_url) \\\n",
    "  .option(\"forward_spark_azure_storage_credentials\", \"true\") \\\n",
    "  .option(\"query\", query) \\\n",
    "  .load()\n",
    "\n",
    "# Aplicando cache no DataFrame\n",
    "df_spark.cache()\n",
    "\n",
    "# Substituir \";\" por \",\", caso encontre dentre os textos\n",
    "df_spark = df_spark.select(\n",
    "  [F.regexp_replace(F.col(c), ';', ',').alias(c) for c in df_spark.columns]\n",
    ")"
   ]
  },
  {
   "cell_type": "markdown",
   "metadata": {
    "application/vnd.databricks.v1+cell": {
     "cellMetadata": {
      "byteLimit": 2048000,
      "rowLimit": 10000
     },
     "inputWidgets": {},
     "nuid": "1ab5fe05-4a7d-43ee-ad21-6427febc3985",
     "showTitle": false,
     "tableResultSettingsMap": {},
     "title": ""
    }
   },
   "source": [
    "### Testando o conteúdo da View"
   ]
  },
  {
   "cell_type": "code",
   "execution_count": 0,
   "metadata": {
    "application/vnd.databricks.v1+cell": {
     "cellMetadata": {
      "byteLimit": 2048000,
      "rowLimit": 10000
     },
     "inputWidgets": {},
     "nuid": "df8719f9-c576-4f51-a485-97e2dc429486",
     "showTitle": false,
     "tableResultSettingsMap": {},
     "title": ""
    }
   },
   "outputs": [],
   "source": [
    "resultados = 'SUCCESS'\n",
    "\n",
    "try:\n",
    "  df_spark.count()\n",
    "except Exception as e:\n",
    "  resultados = f\"Ocorreu um erro: (ERROR) {e}\"\n",
    "  dbutils.notebook.exit(resultados)\n",
    "\n",
    "if df_spark.isEmpty() == True:\n",
    "  resultados = \"O DataFrame está vazio (WARNING)\"\n",
    "  dbutils.notebook.exit(resultados)"
   ]
  },
  {
   "cell_type": "code",
   "execution_count": 0,
   "metadata": {
    "application/vnd.databricks.v1+cell": {
     "cellMetadata": {
      "byteLimit": 2048000,
      "rowLimit": 10000
     },
     "inputWidgets": {},
     "nuid": "b72120e4-5615-4662-8856-c7b1def7b79d",
     "showTitle": false,
     "tableResultSettingsMap": {},
     "title": ""
    }
   },
   "outputs": [],
   "source": [
    "# Registtrando a quantidade de registros\n",
    "qtde_registros = df_spark.count()"
   ]
  },
  {
   "cell_type": "code",
   "execution_count": 0,
   "metadata": {
    "application/vnd.databricks.v1+cell": {
     "cellMetadata": {
      "byteLimit": 2048000,
      "rowLimit": 10000
     },
     "inputWidgets": {},
     "nuid": "3bfc4ec5-75f8-48be-b6f1-e62b75231f30",
     "showTitle": false,
     "tableResultSettingsMap": {},
     "title": ""
    }
   },
   "outputs": [],
   "source": [
    "print(qtde_registros)"
   ]
  },
  {
   "cell_type": "markdown",
   "metadata": {
    "application/vnd.databricks.v1+cell": {
     "cellMetadata": {
      "byteLimit": 2048000,
      "rowLimit": 10000
     },
     "inputWidgets": {},
     "nuid": "4f121f0b-1811-4caa-b33b-98fbe0807d92",
     "showTitle": false,
     "tableResultSettingsMap": {},
     "title": ""
    }
   },
   "source": [
    "###Convertendo o DataFrame Spark em arquivo CSV"
   ]
  },
  {
   "cell_type": "code",
   "execution_count": 0,
   "metadata": {
    "application/vnd.databricks.v1+cell": {
     "cellMetadata": {
      "byteLimit": 2048000,
      "rowLimit": 10000
     },
     "inputWidgets": {},
     "nuid": "5c17902f-0c9d-4b28-bad6-df469da8ab12",
     "showTitle": false,
     "tableResultSettingsMap": {},
     "title": ""
    }
   },
   "outputs": [],
   "source": [
    "# Informações para acesso ao Data Lake\n",
    "clientId = dbutils.secrets.get(scope = \"SCT-SCP-CBA-DCB-EDM-EASTUS2\", key = \"SCT-ID-CBA-CLIENT-DATALAKE\")\n",
    "clientSecret = dbutils.secrets.get(scope = \"SCT-SCP-CBA-DCB-EDM-EASTUS2\", key = \"SCT-PW-CLIENT-DATALAKE\")\n",
    "storageAccount = dbutils.secrets.get(scope= \"SCT-SCP-CBA-DCB-EDM-EASTUS2\", key = \"SCT-ID-CBA-STORAGEACCOUNT-DATALAKE\")"
   ]
  },
  {
   "cell_type": "code",
   "execution_count": 0,
   "metadata": {
    "application/vnd.databricks.v1+cell": {
     "cellMetadata": {
      "byteLimit": 2048000,
      "rowLimit": 10000
     },
     "inputWidgets": {},
     "nuid": "b2c38796-1367-47df-99e4-f8bf49cfd688",
     "showTitle": false,
     "tableResultSettingsMap": {},
     "title": ""
    }
   },
   "outputs": [],
   "source": [
    "# Nome para acesso à Storage Account\n",
    "storageName = \"cbadlsedmbrazilsouth\"\n",
    "TemplateName = \"MailingDinamize\"\n",
    "outputRawPath = \"RAW/DHO/DINAMIZE\""
   ]
  },
  {
   "cell_type": "code",
   "execution_count": 0,
   "metadata": {
    "application/vnd.databricks.v1+cell": {
     "cellMetadata": {
      "byteLimit": 2048000,
      "rowLimit": 10000
     },
     "inputWidgets": {},
     "nuid": "302d3cc4-ed99-425b-9d4b-b03ea0243e7d",
     "showTitle": false,
     "tableResultSettingsMap": {},
     "title": ""
    }
   },
   "outputs": [],
   "source": [
    "# Verifica se há um diretório temporário já montado - se sim, desmonta\n",
    "if any(mount.mountPoint == f'/mnt/{TemplateName}' for mount in dbutils.fs.mounts()):\n",
    "  dbutils.fs.unmount(f\"/mnt/{TemplateName}\")"
   ]
  },
  {
   "cell_type": "code",
   "execution_count": 0,
   "metadata": {
    "application/vnd.databricks.v1+cell": {
     "cellMetadata": {
      "byteLimit": 2048000,
      "rowLimit": 10000
     },
     "inputWidgets": {},
     "nuid": "b390c062-00b6-4df4-8eb1-47d4266f76ac",
     "showTitle": false,
     "tableResultSettingsMap": {},
     "title": ""
    }
   },
   "outputs": [],
   "source": [
    "# Monta o Data Lake em um sistema de arquivos do Databricks para manipulação temporária\n",
    "dbutils.fs.mount(\n",
    "  source = f\"abfss://{storageName}@{storageAccount}.dfs.core.windows.net/\",\n",
    "  mount_point = f\"/mnt/{TemplateName}\",\n",
    "  extra_configs = {\"fs.azure.account.auth.type\": \"OAuth\",\n",
    "                   \"fs.azure.account.oauth.provider.type\": \"org.apache.hadoop.fs.azurebfs.oauth2.ClientCredsTokenProvider\",\n",
    "                   \"fs.azure.account.oauth2.client.id\": clientId,\n",
    "                   \"fs.azure.account.oauth2.client.secret\": clientSecret,\n",
    "                   \"fs.azure.account.oauth2.client.endpoint\": \"https://login.microsoftonline.com/votorantimindustrial.onmicrosoft.com/oauth2/token\"})"
   ]
  },
  {
   "cell_type": "code",
   "execution_count": 0,
   "metadata": {
    "application/vnd.databricks.v1+cell": {
     "cellMetadata": {
      "byteLimit": 2048000,
      "rowLimit": 10000
     },
     "inputWidgets": {},
     "nuid": "7446006d-2355-4545-8557-f53bf925a107",
     "showTitle": false,
     "tableResultSettingsMap": {},
     "title": ""
    }
   },
   "outputs": [],
   "source": [
    "# Cria arquivo CSV no Data Lake\n",
    "\n",
    "# Path de destino do arquivo\n",
    "outputDir = f'dbfs:/mnt/{TemplateName}/{outputRawPath}/{TemplateName}'\n",
    "dbutils.fs.mkdirs(outputDir)\n",
    "outputDir = outputDir.replace('dbfs:', '/dbfs')\n",
    "\n",
    "data_atual = datetime.datetime.now().strftime(\"%d-%m-%Y\")\n",
    "nome_base = \"contatos\"\n",
    "\n",
    "# Concatenando a data com o nome do arquivo\n",
    "fileName = f\"{nome_base}_{data_atual}.CSV\"\n",
    "\n",
    "# Criando um DataFrame Pandas a partir do DataFrame Spark\n",
    "df_pandas = df_spark.toPandas()\n",
    "\n",
    "# Salva o arquivo CSV\n",
    "df_pandas.to_csv(f'{outputDir}/{fileName}', sep=';', index=False, header=True)\n",
    "\n",
    "# Caminho do arquivo csv\n",
    "csv_file = f'{outputDir}/{fileName}'"
   ]
  },
  {
   "cell_type": "markdown",
   "metadata": {
    "application/vnd.databricks.v1+cell": {
     "cellMetadata": {
      "byteLimit": 2048000,
      "rowLimit": 10000
     },
     "inputWidgets": {},
     "nuid": "3562a0f1-4225-4e44-a742-ff0882efaa32",
     "showTitle": false,
     "tableResultSettingsMap": {},
     "title": ""
    }
   },
   "source": [
    "# API"
   ]
  },
  {
   "cell_type": "markdown",
   "metadata": {
    "application/vnd.databricks.v1+cell": {
     "cellMetadata": {
      "byteLimit": 2048000,
      "rowLimit": 10000
     },
     "inputWidgets": {},
     "nuid": "58f69407-94bd-4260-a76d-e402329e7d32",
     "showTitle": false,
     "tableResultSettingsMap": {},
     "title": ""
    }
   },
   "source": [
    "### Get Token"
   ]
  },
  {
   "cell_type": "code",
   "execution_count": 0,
   "metadata": {
    "application/vnd.databricks.v1+cell": {
     "cellMetadata": {
      "byteLimit": 2048000,
      "rowLimit": 10000
     },
     "inputWidgets": {},
     "nuid": "30e514fa-9b3b-4a48-85a4-6c8624e0ba0b",
     "showTitle": false,
     "tableResultSettingsMap": {},
     "title": ""
    }
   },
   "outputs": [],
   "source": [
    "# Obtém as credenciais do Key Vault\n",
    "api_url = dbutils.secrets.get(scope='SCT-SCP-CBA-DCB-EDM-EASTUS2', key = \"SCT-CS-CBA-DINAMIZE-URL\")\n",
    "api_usr = dbutils.secrets.get(scope='SCT-SCP-CBA-DCB-EDM-EASTUS2', key = \"SCT-CS-CBA-DINAMIZE-USR\")\n",
    "api_pwd = dbutils.secrets.get(scope='SCT-SCP-CBA-DCB-EDM-EASTUS2', key = \"SCT-CS-CBA-DINAMIZE-PWD\")\n",
    "api_cc = dbutils.secrets.get(scope='SCT-SCP-CBA-DCB-EDM-EASTUS2', key = \"SCT-CS-CBA-DINAMIZE-CC\")"
   ]
  },
  {
   "cell_type": "code",
   "execution_count": 0,
   "metadata": {
    "application/vnd.databricks.v1+cell": {
     "cellMetadata": {
      "byteLimit": 2048000,
      "rowLimit": 10000
     },
     "inputWidgets": {},
     "nuid": "c168034a-cf48-4809-9f2f-cccef3fe3638",
     "showTitle": false,
     "tableResultSettingsMap": {},
     "title": ""
    }
   },
   "outputs": [],
   "source": [
    "action  = 'auth'\n",
    "url_token = api_url + action\n",
    "\n",
    "url = f\"{url_token}?user={api_usr}&password={api_pwd}&client_code={api_cc}\"\n",
    "token = None\n",
    "\n",
    "def get_token(url, params=None):\n",
    "    try:\n",
    "        response = requests.post(url, params=None)\n",
    "        code = response.json()['code']\n",
    "        if code == '480001':\n",
    "            return response.json()['body']['auth-token']\n",
    "        else:\n",
    "          return f\"(Falha ao tentar obter o token (FAIL):, {response.status_code}, {response.text})\"\n",
    "    except requests.exceptions.RequestException as e:\n",
    "        return f\"(Erro ao tentar obter o token (ERROR): {e})\""
   ]
  },
  {
   "cell_type": "markdown",
   "metadata": {
    "application/vnd.databricks.v1+cell": {
     "cellMetadata": {
      "byteLimit": 2048000,
      "rowLimit": 10000
     },
     "inputWidgets": {},
     "nuid": "33553cf0-68c6-4443-a2f5-df2bd8a3ce10",
     "showTitle": false,
     "tableResultSettingsMap": {},
     "title": ""
    }
   },
   "source": [
    "## API Action"
   ]
  },
  {
   "cell_type": "markdown",
   "metadata": {
    "application/vnd.databricks.v1+cell": {
     "cellMetadata": {
      "byteLimit": 2048000,
      "rowLimit": 10000
     },
     "inputWidgets": {},
     "nuid": "5931bbfd-6f93-4cf9-bea3-8588d5f760a0",
     "showTitle": false,
     "tableResultSettingsMap": {},
     "title": ""
    }
   },
   "source": [
    "### Lista de Valores - Função"
   ]
  },
  {
   "cell_type": "code",
   "execution_count": 0,
   "metadata": {
    "application/vnd.databricks.v1+cell": {
     "cellMetadata": {
      "byteLimit": 2048000,
      "rowLimit": 10000
     },
     "inputWidgets": {},
     "nuid": "0b6e9e9a-9788-45bf-b12d-459b852172fc",
     "showTitle": false,
     "tableResultSettingsMap": {},
     "title": ""
    }
   },
   "outputs": [],
   "source": [
    "def lista_valores(column, field_code):\n",
    "    lista = df_spark.select(column).distinct().collect()\n",
    "    token = get_token(url, None)\n",
    "    num_reqs = 0\n",
    "    time.sleep(60)\n",
    "\n",
    "    # Dados da requisição\n",
    "    headers = {\n",
    "        \"Content-Type\": \"application/json; charset=utf-8\",\n",
    "        \"auth-token\": token\n",
    "    }\n",
    "\n",
    "    for row in lista:\n",
    "        data = {\n",
    "            \"contact-list_code\": \"4\",\n",
    "            \"field_code\": field_code,\n",
    "            \"value\": getattr(row, column)\n",
    "        }\n",
    "        response = requests.post(url=url_lista, headers=headers, json=data)\n",
    "        num_reqs = num_reqs + 1\n",
    "        if num_reqs == 55:\n",
    "            # Pausar a execução por 60 segundos\n",
    "            time.sleep(60)\n",
    "            num_reqs = 0\n",
    "            token = get_token(url, None)\n",
    "        \n",
    "        # Verificando a resposta\n",
    "        if response.status_code != 200:\n",
    "            print(f\"Erro na requisição de Lista de Valores | Valor: {getattr(row, column)}:\", response.status_code, response.text)\n",
    "            resultados = f\"Erro na requisição de Lista de Valores (ERROR) | Valor: {getattr(row, column)} | 'status_code': {response.status_code} | 'text': {response.text}\""
   ]
  },
  {
   "cell_type": "markdown",
   "metadata": {
    "application/vnd.databricks.v1+cell": {
     "cellMetadata": {
      "byteLimit": 2048000,
      "rowLimit": 10000
     },
     "inputWidgets": {},
     "nuid": "31949659-c528-48a5-9e09-beb645458234",
     "showTitle": false,
     "tableResultSettingsMap": {},
     "title": ""
    }
   },
   "source": [
    "### Lista de Valores (Dados Mestres) - Envio"
   ]
  },
  {
   "cell_type": "code",
   "execution_count": 0,
   "metadata": {
    "application/vnd.databricks.v1+cell": {
     "cellMetadata": {
      "byteLimit": 2048000,
      "rowLimit": 10000
     },
     "inputWidgets": {},
     "nuid": "298e0e6b-1a32-412b-b249-51799d56c065",
     "showTitle": false,
     "tableResultSettingsMap": {},
     "title": ""
    },
    "jupyter": {
     "outputs_hidden": true
    }
   },
   "outputs": [],
   "source": [
    "# Parâmetros padrão - Requisição para Lista de Valores\n",
    "action_lista = 'emkt/field-lov/add'\n",
    "url_lista = api_url + action_lista        \n",
    "\n",
    "lista_valores(\"Unidade\", \"10\")\n",
    "lista_valores(\"Cargo\", \"11\")\n",
    "lista_valores(\"Geracao\", \"31\")\n",
    "lista_valores(\"Genero\", \"15\")\n",
    "lista_valores(\"Status\", \"16\")\n",
    "lista_valores(\"GS\", \"19\")\n",
    "lista_valores(\"Nivel\", \"20\")\n",
    "lista_valores(\"Diretoria\", \"21\")\n",
    "lista_valores(\"Area\", \"22\")\n",
    "lista_valores(\"Gerencia\", \"23\")\n",
    "lista_valores(\"Coordenacao\", \"32\")\n",
    "lista_valores(\"Classificacao\", \"29\")\n",
    "lista_valores(\"Publico\", \"30\")"
   ]
  },
  {
   "cell_type": "markdown",
   "metadata": {
    "application/vnd.databricks.v1+cell": {
     "cellMetadata": {
      "byteLimit": 2048000,
      "rowLimit": 10000
     },
     "inputWidgets": {},
     "nuid": "f5fbcbed-6076-4166-8df2-cc2dbe2feb87",
     "showTitle": false,
     "tableResultSettingsMap": {},
     "title": ""
    }
   },
   "source": [
    "### Envio dos Contatos\n",
    "CONTATOS - IMPORTAÇÃO - ADICIONAR <br>\n",
    "Conforme documentação: https://panel.dinamize.com/apidoc/#api-5ContactImportGroup-ContactImportAdd"
   ]
  },
  {
   "cell_type": "code",
   "execution_count": 0,
   "metadata": {
    "application/vnd.databricks.v1+cell": {
     "cellMetadata": {
      "byteLimit": 2048000,
      "rowLimit": 10000
     },
     "inputWidgets": {},
     "nuid": "faaedb69-6faa-41db-8c5a-70c2cd8b5755",
     "showTitle": false,
     "tableResultSettingsMap": {},
     "title": ""
    }
   },
   "outputs": [],
   "source": [
    "action_send = 'emkt/contact'\n",
    "url_action = api_url + action_send\n",
    "token = get_token(url, None)\n",
    "\n",
    "# Dados da requisição\n",
    "headers = {\"auth-token\": token}\n",
    "\n",
    "params = {\n",
    "    \"command\":\"import\",\n",
    "    \"parameters\": {\n",
    "        \"contact-list_code\": \"4\", \n",
    "        \"separator\": \";\", \n",
    "        \"header\": True, \n",
    "        \"file_columns\": [\n",
    "            {\"Position\": \"0\", \"Field\": \"2\", \"Rule\": \"3\"}, \n",
    "            {\"Position\": \"1\", \"Field\": \"1\", \"Rule\": \"3\"}, \n",
    "            {\"Position\": \"2\", \"Field\": \"9\", \"Rule\": \"3\"}, \n",
    "            {\"Position\": \"3\", \"Field\": \"10\", \"Rule\": \"3\"}, \n",
    "            {\"Position\": \"4\", \"Field\": \"11\", \"Rule\": \"3\"}, \n",
    "            {\"Position\": \"5\", \"Field\": \"12\", \"Rule\": \"3\"}, \n",
    "            {\"Position\": \"6\", \"Field\": \"13\", \"Rule\": \"3\"}, \n",
    "            {\"Position\": \"7\", \"Field\": \"31\", \"Rule\": \"3\"}, \n",
    "            {\"Position\": \"8\", \"Field\": \"15\", \"Rule\": \"3\"}, \n",
    "            {\"Position\": \"9\", \"Field\": \"16\", \"Rule\": \"3\"}, \n",
    "            {\"Position\": \"10\", \"Field\": \"17\", \"Rule\": \"3\"}, \n",
    "            {\"Position\": \"11\", \"Field\": \"18\", \"Rule\": \"3\"}, \n",
    "            {\"Position\": \"12\", \"Field\": \"19\", \"Rule\": \"3\"}, \n",
    "            {\"Position\": \"13\", \"Field\": \"20\", \"Rule\": \"3\"}, \n",
    "            {\"Position\": \"14\", \"Field\": \"30\", \"Rule\": \"3\"}, \n",
    "            {\"Position\": \"15\", \"Field\": \"21\", \"Rule\": \"3\"}, \n",
    "            {\"Position\": \"16\", \"Field\": \"22\", \"Rule\": \"3\"}, \n",
    "            {\"Position\": \"17\", \"Field\": \"23\", \"Rule\": \"3\"}, \n",
    "            {\"Position\": \"18\", \"Field\": \"32\", \"Rule\": \"3\"}, \n",
    "            {\"Position\": \"19\", \"Field\": \"25\", \"Rule\": \"3\"}, \n",
    "            {\"Position\": \"20\", \"Field\": \"29\", \"Rule\": \"3\"}\n",
    "        ]\n",
    "    }\n",
    "}\n",
    "\n",
    "files = {\"file\": open(csv_file, \"rb\")}\n",
    "data = {\"command\": \"import\", \"parameters\": json.dumps(params[\"parameters\"])}\n",
    "\n",
    "# Realizando a requisição POST\n",
    "time.sleep(60) # Para garantir que não exceda o limite de requisições por minuto\n",
    "response = requests.post(url=url_action, headers=headers, data=data, files=files)\n",
    " \n",
    "response_code = response.json()['code']\n",
    "if response_code == '480001':\n",
    "    resultados = \"Contatos enviados com sucesso (SUCCESS)!\"\n",
    "else:\n",
    "    resultados =  \"Falha ao tentar enviar contatos (FAIL)!\"\n",
    "\n",
    "print(resultados)\n",
    "print(f\"Arquivo: {csv_file}\\nTotal de registros enviados: {qtde_registros}\")\n",
    "\n",
    "print(\"\\n$response:\")\n",
    "print(response.text)\n",
    " \n",
    "print(\"\\nResponse Info:\")\n",
    "print(\"status_code:\", response.status_code)\n",
    "print(response.headers)"
   ]
  },
  {
   "cell_type": "markdown",
   "metadata": {
    "application/vnd.databricks.v1+cell": {
     "cellMetadata": {
      "byteLimit": 2048000,
      "rowLimit": 10000
     },
     "inputWidgets": {},
     "nuid": "ed6bdcb7-984f-4ff5-bffb-1ee619b1a149",
     "showTitle": false,
     "tableResultSettingsMap": {},
     "title": ""
    }
   },
   "source": [
    "### Invalidar Contatos -> Alterar status para 'Inválido'\n",
    "\n",
    "Documentação - Consulta do \"contact_code\": https://panel.dinamize.com/apidoc/#api-4ContactGroup-ContactSearch\n",
    "\n",
    "Documentação : https://panel.dinamize.com/apidoc/#api-4ContactGroup-ContactUpdate\n"
   ]
  },
  {
   "cell_type": "code",
   "execution_count": 0,
   "metadata": {
    "application/vnd.databricks.v1+cell": {
     "cellMetadata": {
      "byteLimit": 2048000,
      "rowLimit": 10000
     },
     "inputWidgets": {},
     "nuid": "322aad75-880e-453f-97b8-a4b60ccea179",
     "showTitle": false,
     "tableResultSettingsMap": {},
     "title": ""
    }
   },
   "outputs": [],
   "source": [
    "query_unsubscribed = (\n",
    "  f\"SELECT * FROM {schema}.{view_unsubscribed}\"\n",
    ")\n",
    "\n",
    "df_unsubscribed = spark.read \\\n",
    "  .format(\"com.databricks.spark.sqldw\") \\\n",
    "  .option(\"url\", sql_dw_connection_string) \\\n",
    "  .option(\"tempdir\", temp_dir_url) \\\n",
    "  .option(\"forward_spark_azure_storage_credentials\", \"true\") \\\n",
    "  .option(\"query\", query_unsubscribed) \\\n",
    "  .load()\n",
    "\n",
    "# Aplicando cache no DataFrame\n",
    "df_unsubscribed.cache()"
   ]
  },
  {
   "cell_type": "code",
   "execution_count": 0,
   "metadata": {
    "application/vnd.databricks.v1+cell": {
     "cellMetadata": {
      "byteLimit": 2048000,
      "rowLimit": 10000
     },
     "inputWidgets": {},
     "nuid": "8345f3db-6c15-431f-b313-33e5aa066071",
     "showTitle": false,
     "tableResultSettingsMap": {},
     "title": ""
    }
   },
   "outputs": [],
   "source": [
    "# Verificando a view\n",
    "resultados = 'SUCCESS'\n",
    "\n",
    "try:\n",
    "  df_unsubscribed.count()\n",
    "except Exception as e:\n",
    "  resultados = f\"Ocorreu um erro: (ERROR) {e}\"\n",
    "  dbutils.notebook.exit(resultados)\n",
    "\n",
    "if df_unsubscribed.isEmpty() == True:\n",
    "  resultados = \"O DataFrame está vazio (WARNING)\"\n",
    "  dbutils.notebook.exit(resultados)\n",
    "\n",
    "# Registtrando a quantidade de registros\n",
    "qtde_registros = df_unsubscribed.count()\n",
    "\n",
    "# Registrar os emails em uma lista\n",
    "emails_desligados = [row.E_mail.lower() for row in df_unsubscribed.select(\"E_mail\").collect()]"
   ]
  },
  {
   "cell_type": "code",
   "execution_count": 0,
   "metadata": {
    "application/vnd.databricks.v1+cell": {
     "cellMetadata": {
      "byteLimit": 2048000,
      "rowLimit": 10000
     },
     "inputWidgets": {},
     "nuid": "b7a4bb4e-26f9-4f8a-b81d-4a4b58e82c01",
     "showTitle": false,
     "tableResultSettingsMap": {},
     "title": ""
    }
   },
   "outputs": [],
   "source": [
    "print(qtde_registros)"
   ]
  },
  {
   "cell_type": "code",
   "execution_count": 0,
   "metadata": {
    "application/vnd.databricks.v1+cell": {
     "cellMetadata": {
      "byteLimit": 2048000,
      "rowLimit": 10000
     },
     "inputWidgets": {},
     "nuid": "b8c3eb32-ee8b-407d-8493-3bdc28dfe002",
     "showTitle": false,
     "tableResultSettingsMap": {},
     "title": ""
    }
   },
   "outputs": [],
   "source": [
    "print(len(emails_desligados))"
   ]
  },
  {
   "cell_type": "code",
   "execution_count": 0,
   "metadata": {
    "application/vnd.databricks.v1+cell": {
     "cellMetadata": {
      "byteLimit": 2048000,
      "rowLimit": 10000
     },
     "inputWidgets": {},
     "nuid": "f42e07c5-ed40-4206-ab0f-3d03ef7adeb4",
     "showTitle": false,
     "tableResultSettingsMap": {},
     "title": ""
    }
   },
   "outputs": [],
   "source": [
    "contatos_fail = []\n",
    "contatos_success = []\n",
    "\n",
    "for email in emails_desligados:\n",
    "    action_search = 'emkt/contact/search'\n",
    "    url_action = api_url + action_search\n",
    "    token = get_token(url, None)\n",
    "\n",
    "    # Dados da requisição\n",
    "    headers = {\n",
    "    \"Content-Type\": \"application/json; charset=utf-8\",\n",
    "    \"auth-token\": token\n",
    "    }\n",
    "\n",
    "    data = {\n",
    "        \"contact-list_code\": \"4\",\n",
    "        \"page_number\": \"1\",\n",
    "        \"page_size\": \"10\",\n",
    "        \"search\": [\n",
    "            {\n",
    "                \"field\": \"email\",\n",
    "                \"operator\": \"=\",\n",
    "                \"value\": [f\"{email}\"]\n",
    "            }\n",
    "        ]\n",
    "    }\n",
    "\n",
    "    # Realizando a requisição POST\n",
    "    time.sleep(1) # Para garantir que não exceda o limite de 60 requisições por minuto\n",
    "    response = requests.post(url=url_action, headers=headers, data=json.dumps(data))\n",
    "    \n",
    "    response_code = response.json()['code']\n",
    "    if response_code == '480001':\n",
    "        resultados = \"Contatos enviados com sucesso (SUCCESS)!\"\n",
    "        if len(response.json()['body']['items']) > 0: \n",
    "            codigo_registro = response.json()['body']['items'][0]['code']\n",
    "        else:\n",
    "            resultados =  \"Falha ao tentar enviar contatos (FAIL)!\"\n",
    "            contatos_fail.append(email)\n",
    "            continue\n",
    "    else:\n",
    "        resultados =  \"Falha ao tentar enviar contatos (FAIL)!\"\n",
    "        contatos_fail.append(email)\n",
    "        continue\n",
    "\n",
    "    action_update = 'emkt/contact/update'\n",
    "    url_action = api_url + action_update\n",
    "    token = get_token(url, None)\n",
    "\n",
    "    # Dados da requisição\n",
    "    headers = {\n",
    "    \"Content-Type\": \"application/json; charset=utf-8\",\n",
    "    \"auth-token\": token\n",
    "    }\n",
    "\n",
    "    data = {\n",
    "        \"contact-list_code\": \"4\",\n",
    "        \"contact_code\": codigo_registro,\n",
    "        \"custom_fields\": {\n",
    "            \"cmp16\": \"15\" # Muda o status para \"Desligado\"\n",
    "        },\n",
    "        \"date_rest\": \"9999-12-31\", # Muda a \"Data de descanso\" para 9999-12-31\n",
    "        \"status_email\": \"I\" # Muda a \"Situação de e-mail\" para \"Inválido\"\n",
    "    }\n",
    "\n",
    "    # Realizando a requisição POST\n",
    "    time.sleep(1) # Para garantir que não exceda o limite de 60 requisições por minuto\n",
    "    response = requests.post(url=url_action, headers=headers, data=json.dumps(data))\n",
    "    \n",
    "    response_code = response.json()['code']\n",
    "    if response_code == '480001':\n",
    "        resultados = \"Contatos enviados com sucesso (SUCCESS)!\"\n",
    "        contatos_success.append(email)\n",
    "    else:\n",
    "        resultados =  \"Falha ao tentar enviar contatos (FAIL)!\"\n",
    "        contatos_fail.append(email)\n",
    "\n",
    "if len(contatos_fail) > 0:\n",
    "    print(\"Os seguinte contatos falharam:\")\n",
    "    print(contatos_fail)\n",
    "if len(contatos_success) > 0:\n",
    "    print(f\"Os seguintes contatos foram alterados com sucesso:\")\n",
    "    print(contatos_success)\n"
   ]
  },
  {
   "cell_type": "code",
   "execution_count": 0,
   "metadata": {
    "application/vnd.databricks.v1+cell": {
     "cellMetadata": {
      "byteLimit": 2048000,
      "rowLimit": 10000
     },
     "inputWidgets": {},
     "nuid": "e4d563fc-2d82-4bf9-982b-5812f9744196",
     "showTitle": false,
     "tableResultSettingsMap": {},
     "title": ""
    }
   },
   "outputs": [],
   "source": [
    "print(len(contatos_success))"
   ]
  },
  {
   "cell_type": "code",
   "execution_count": 0,
   "metadata": {
    "application/vnd.databricks.v1+cell": {
     "cellMetadata": {
      "byteLimit": 2048000,
      "rowLimit": 10000
     },
     "inputWidgets": {},
     "nuid": "0505f4a9-c702-4cef-a3ab-3f3dae756ab2",
     "showTitle": false,
     "tableResultSettingsMap": {},
     "title": ""
    }
   },
   "outputs": [],
   "source": [
    "print(len(contatos_fail))"
   ]
  },
  {
   "cell_type": "markdown",
   "metadata": {
    "application/vnd.databricks.v1+cell": {
     "cellMetadata": {
      "byteLimit": 2048000,
      "rowLimit": 10000
     },
     "inputWidgets": {},
     "nuid": "40555518-8e70-42bb-848e-ee49e3849136",
     "showTitle": false,
     "tableResultSettingsMap": {},
     "title": ""
    }
   },
   "source": [
    "### Resultados"
   ]
  },
  {
   "cell_type": "code",
   "execution_count": 0,
   "metadata": {
    "application/vnd.databricks.v1+cell": {
     "cellMetadata": {
      "byteLimit": 2048000,
      "rowLimit": 10000
     },
     "inputWidgets": {},
     "nuid": "10eba350-d1cb-4f86-bff2-dbe0c6075fee",
     "showTitle": false,
     "tableResultSettingsMap": {},
     "title": ""
    }
   },
   "outputs": [],
   "source": [
    "# resultados\n",
    "if 'ERROR' in resultados:\n",
    "  EXIT = 'ERROR_QUERIES'\n",
    "elif 'WARNING' in resultados:\n",
    "  EXIT = 'WARNING'\n",
    "elif 'FAIL' in resultados:\n",
    "  EXIT = 'FAIL'  \n",
    "elif 'SUCCESS' in resultados:\n",
    "  EXIT = 'SUCCESS'\n",
    "else: \n",
    "  EXIT = 'ERROR_QUERIES'\n",
    "\n",
    "dbutils.notebook.exit(EXIT)"
   ]
  }
 ],
 "metadata": {
  "application/vnd.databricks.v1+notebook": {
   "computePreferences": null,
   "dashboards": [],
   "environmentMetadata": null,
   "language": "python",
   "notebookMetadata": {
    "pythonIndentUnit": 2
   },
   "notebookName": "EXTRACT_MAILING_DINAMIZE",
   "widgets": {
    "ENV": {
     "currentValue": "PROD",
     "nuid": "07bb483c-74ce-4abf-ad8c-32f8c220bbdb",
     "typedWidgetInfo": {
      "autoCreated": false,
      "defaultValue": "QA",
      "label": null,
      "name": "ENV",
      "options": {
       "choices": [
        "QA",
        "PROD"
       ],
       "fixedDomain": true,
       "multiselect": false,
       "widgetDisplayType": "Dropdown"
      },
      "parameterDataType": "String"
     },
     "widgetInfo": {
      "defaultValue": "QA",
      "label": null,
      "name": "ENV",
      "options": {
       "autoCreated": null,
       "choices": [
        "QA",
        "PROD"
       ],
       "widgetType": "dropdown"
      },
      "widgetType": "dropdown"
     }
    },
    "schema": {
     "currentValue": "sch_dho",
     "nuid": "11c90fea-5d3e-4f6a-a68f-8f3e43095992",
     "typedWidgetInfo": {
      "autoCreated": false,
      "defaultValue": "",
      "label": "",
      "name": "schema",
      "options": {
       "validationRegex": null,
       "widgetDisplayType": "Text"
      },
      "parameterDataType": "String"
     },
     "widgetInfo": {
      "defaultValue": "",
      "label": "",
      "name": "schema",
      "options": {
       "autoCreated": null,
       "validationRegex": null,
       "widgetType": "text"
      },
      "widgetType": "text"
     }
    },
    "view": {
     "currentValue": "view_mailing_dinamize_api",
     "nuid": "de13a3ed-6853-4d9e-a20d-5a5bfb333916",
     "typedWidgetInfo": {
      "autoCreated": false,
      "defaultValue": "",
      "label": "",
      "name": "view",
      "options": {
       "validationRegex": null,
       "widgetDisplayType": "Text"
      },
      "parameterDataType": "String"
     },
     "widgetInfo": {
      "defaultValue": "",
      "label": "",
      "name": "view",
      "options": {
       "autoCreated": null,
       "validationRegex": null,
       "widgetType": "text"
      },
      "widgetType": "text"
     }
    },
    "view_unsubscribed": {
     "currentValue": "view_mailing_dinamize_unsubscribed_api",
     "nuid": "1c5a2420-805d-4636-9aea-8c26c2cf554d",
     "typedWidgetInfo": {
      "autoCreated": false,
      "defaultValue": "",
      "label": "",
      "name": "view_unsubscribed",
      "options": {
       "validationRegex": null,
       "widgetDisplayType": "Text"
      },
      "parameterDataType": "String"
     },
     "widgetInfo": {
      "defaultValue": "",
      "label": "",
      "name": "view_unsubscribed",
      "options": {
       "autoCreated": null,
       "validationRegex": null,
       "widgetType": "text"
      },
      "widgetType": "text"
     }
    }
   }
  },
  "kernelspec": {
   "display_name": "Python 3",
   "language": "python",
   "name": "python3"
  },
  "language_info": {
   "name": "python",
   "version": "3.7.0"
  }
 },
 "nbformat": 4,
 "nbformat_minor": 0
}
